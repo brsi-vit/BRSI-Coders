{
  "nbformat": 4,
  "nbformat_minor": 0,
  "metadata": {
    "colab": {
      "provenance": []
    },
    "kernelspec": {
      "name": "python3",
      "display_name": "Python 3"
    },
    "language_info": {
      "name": "python"
    }
  },
  "cells": [
    {
      "cell_type": "code",
      "source": [
        "import pandas as pd\n",
        "import numpy as np\n",
        "import matplotlib.pyplot as plt\n",
        "import seaborn as sns"
      ],
      "metadata": {
        "id": "2lQbo-hNmCnT"
      },
      "execution_count": null,
      "outputs": []
    },
    {
      "cell_type": "code",
      "source": [
        "df = pd.read_csv('chi2.csv')"
      ],
      "metadata": {
        "id": "xlFBFX38mKI3"
      },
      "execution_count": null,
      "outputs": []
    },
    {
      "cell_type": "code",
      "source": [
        "df.head()"
      ],
      "metadata": {
        "colab": {
          "base_uri": "https://localhost:8080/",
          "height": 206
        },
        "id": "pMzazMMDmXqi",
        "outputId": "189b12f0-08fb-4352-f853-548e56c21811"
      },
      "execution_count": null,
      "outputs": [
        {
          "output_type": "execute_result",
          "data": {
            "text/plain": [
              "  Age_Group Smoker Exercise_Level Diet_Quality Alcohol_Consumption  \\\n",
              "0     36-45    Yes           High         Good                 NaN   \n",
              "1     46-60     No           High         Good            Moderate   \n",
              "2     18-25     No            Low      Average                 NaN   \n",
              "3     36-45     No            Low         Good               Heavy   \n",
              "4     36-45     No         Medium         Good               Heavy   \n",
              "\n",
              "  Family_History Has_Lung_Disease  \n",
              "0             No              Yes  \n",
              "1            Yes              Yes  \n",
              "2            Yes               No  \n",
              "3            Yes              Yes  \n",
              "4             No              Yes  "
            ],
            "text/html": [
              "\n",
              "  <div id=\"df-1eac067c-68ca-4368-9854-10d1599f0336\" class=\"colab-df-container\">\n",
              "    <div>\n",
              "<style scoped>\n",
              "    .dataframe tbody tr th:only-of-type {\n",
              "        vertical-align: middle;\n",
              "    }\n",
              "\n",
              "    .dataframe tbody tr th {\n",
              "        vertical-align: top;\n",
              "    }\n",
              "\n",
              "    .dataframe thead th {\n",
              "        text-align: right;\n",
              "    }\n",
              "</style>\n",
              "<table border=\"1\" class=\"dataframe\">\n",
              "  <thead>\n",
              "    <tr style=\"text-align: right;\">\n",
              "      <th></th>\n",
              "      <th>Age_Group</th>\n",
              "      <th>Smoker</th>\n",
              "      <th>Exercise_Level</th>\n",
              "      <th>Diet_Quality</th>\n",
              "      <th>Alcohol_Consumption</th>\n",
              "      <th>Family_History</th>\n",
              "      <th>Has_Lung_Disease</th>\n",
              "    </tr>\n",
              "  </thead>\n",
              "  <tbody>\n",
              "    <tr>\n",
              "      <th>0</th>\n",
              "      <td>36-45</td>\n",
              "      <td>Yes</td>\n",
              "      <td>High</td>\n",
              "      <td>Good</td>\n",
              "      <td>NaN</td>\n",
              "      <td>No</td>\n",
              "      <td>Yes</td>\n",
              "    </tr>\n",
              "    <tr>\n",
              "      <th>1</th>\n",
              "      <td>46-60</td>\n",
              "      <td>No</td>\n",
              "      <td>High</td>\n",
              "      <td>Good</td>\n",
              "      <td>Moderate</td>\n",
              "      <td>Yes</td>\n",
              "      <td>Yes</td>\n",
              "    </tr>\n",
              "    <tr>\n",
              "      <th>2</th>\n",
              "      <td>18-25</td>\n",
              "      <td>No</td>\n",
              "      <td>Low</td>\n",
              "      <td>Average</td>\n",
              "      <td>NaN</td>\n",
              "      <td>Yes</td>\n",
              "      <td>No</td>\n",
              "    </tr>\n",
              "    <tr>\n",
              "      <th>3</th>\n",
              "      <td>36-45</td>\n",
              "      <td>No</td>\n",
              "      <td>Low</td>\n",
              "      <td>Good</td>\n",
              "      <td>Heavy</td>\n",
              "      <td>Yes</td>\n",
              "      <td>Yes</td>\n",
              "    </tr>\n",
              "    <tr>\n",
              "      <th>4</th>\n",
              "      <td>36-45</td>\n",
              "      <td>No</td>\n",
              "      <td>Medium</td>\n",
              "      <td>Good</td>\n",
              "      <td>Heavy</td>\n",
              "      <td>No</td>\n",
              "      <td>Yes</td>\n",
              "    </tr>\n",
              "  </tbody>\n",
              "</table>\n",
              "</div>\n",
              "    <div class=\"colab-df-buttons\">\n",
              "\n",
              "  <div class=\"colab-df-container\">\n",
              "    <button class=\"colab-df-convert\" onclick=\"convertToInteractive('df-1eac067c-68ca-4368-9854-10d1599f0336')\"\n",
              "            title=\"Convert this dataframe to an interactive table.\"\n",
              "            style=\"display:none;\">\n",
              "\n",
              "  <svg xmlns=\"http://www.w3.org/2000/svg\" height=\"24px\" viewBox=\"0 -960 960 960\">\n",
              "    <path d=\"M120-120v-720h720v720H120Zm60-500h600v-160H180v160Zm220 220h160v-160H400v160Zm0 220h160v-160H400v160ZM180-400h160v-160H180v160Zm440 0h160v-160H620v160ZM180-180h160v-160H180v160Zm440 0h160v-160H620v160Z\"/>\n",
              "  </svg>\n",
              "    </button>\n",
              "\n",
              "  <style>\n",
              "    .colab-df-container {\n",
              "      display:flex;\n",
              "      gap: 12px;\n",
              "    }\n",
              "\n",
              "    .colab-df-convert {\n",
              "      background-color: #E8F0FE;\n",
              "      border: none;\n",
              "      border-radius: 50%;\n",
              "      cursor: pointer;\n",
              "      display: none;\n",
              "      fill: #1967D2;\n",
              "      height: 32px;\n",
              "      padding: 0 0 0 0;\n",
              "      width: 32px;\n",
              "    }\n",
              "\n",
              "    .colab-df-convert:hover {\n",
              "      background-color: #E2EBFA;\n",
              "      box-shadow: 0px 1px 2px rgba(60, 64, 67, 0.3), 0px 1px 3px 1px rgba(60, 64, 67, 0.15);\n",
              "      fill: #174EA6;\n",
              "    }\n",
              "\n",
              "    .colab-df-buttons div {\n",
              "      margin-bottom: 4px;\n",
              "    }\n",
              "\n",
              "    [theme=dark] .colab-df-convert {\n",
              "      background-color: #3B4455;\n",
              "      fill: #D2E3FC;\n",
              "    }\n",
              "\n",
              "    [theme=dark] .colab-df-convert:hover {\n",
              "      background-color: #434B5C;\n",
              "      box-shadow: 0px 1px 3px 1px rgba(0, 0, 0, 0.15);\n",
              "      filter: drop-shadow(0px 1px 2px rgba(0, 0, 0, 0.3));\n",
              "      fill: #FFFFFF;\n",
              "    }\n",
              "  </style>\n",
              "\n",
              "    <script>\n",
              "      const buttonEl =\n",
              "        document.querySelector('#df-1eac067c-68ca-4368-9854-10d1599f0336 button.colab-df-convert');\n",
              "      buttonEl.style.display =\n",
              "        google.colab.kernel.accessAllowed ? 'block' : 'none';\n",
              "\n",
              "      async function convertToInteractive(key) {\n",
              "        const element = document.querySelector('#df-1eac067c-68ca-4368-9854-10d1599f0336');\n",
              "        const dataTable =\n",
              "          await google.colab.kernel.invokeFunction('convertToInteractive',\n",
              "                                                    [key], {});\n",
              "        if (!dataTable) return;\n",
              "\n",
              "        const docLinkHtml = 'Like what you see? Visit the ' +\n",
              "          '<a target=\"_blank\" href=https://colab.research.google.com/notebooks/data_table.ipynb>data table notebook</a>'\n",
              "          + ' to learn more about interactive tables.';\n",
              "        element.innerHTML = '';\n",
              "        dataTable['output_type'] = 'display_data';\n",
              "        await google.colab.output.renderOutput(dataTable, element);\n",
              "        const docLink = document.createElement('div');\n",
              "        docLink.innerHTML = docLinkHtml;\n",
              "        element.appendChild(docLink);\n",
              "      }\n",
              "    </script>\n",
              "  </div>\n",
              "\n",
              "\n",
              "    <div id=\"df-a46c44eb-5668-456d-9606-5fc45685252e\">\n",
              "      <button class=\"colab-df-quickchart\" onclick=\"quickchart('df-a46c44eb-5668-456d-9606-5fc45685252e')\"\n",
              "                title=\"Suggest charts\"\n",
              "                style=\"display:none;\">\n",
              "\n",
              "<svg xmlns=\"http://www.w3.org/2000/svg\" height=\"24px\"viewBox=\"0 0 24 24\"\n",
              "     width=\"24px\">\n",
              "    <g>\n",
              "        <path d=\"M19 3H5c-1.1 0-2 .9-2 2v14c0 1.1.9 2 2 2h14c1.1 0 2-.9 2-2V5c0-1.1-.9-2-2-2zM9 17H7v-7h2v7zm4 0h-2V7h2v10zm4 0h-2v-4h2v4z\"/>\n",
              "    </g>\n",
              "</svg>\n",
              "      </button>\n",
              "\n",
              "<style>\n",
              "  .colab-df-quickchart {\n",
              "      --bg-color: #E8F0FE;\n",
              "      --fill-color: #1967D2;\n",
              "      --hover-bg-color: #E2EBFA;\n",
              "      --hover-fill-color: #174EA6;\n",
              "      --disabled-fill-color: #AAA;\n",
              "      --disabled-bg-color: #DDD;\n",
              "  }\n",
              "\n",
              "  [theme=dark] .colab-df-quickchart {\n",
              "      --bg-color: #3B4455;\n",
              "      --fill-color: #D2E3FC;\n",
              "      --hover-bg-color: #434B5C;\n",
              "      --hover-fill-color: #FFFFFF;\n",
              "      --disabled-bg-color: #3B4455;\n",
              "      --disabled-fill-color: #666;\n",
              "  }\n",
              "\n",
              "  .colab-df-quickchart {\n",
              "    background-color: var(--bg-color);\n",
              "    border: none;\n",
              "    border-radius: 50%;\n",
              "    cursor: pointer;\n",
              "    display: none;\n",
              "    fill: var(--fill-color);\n",
              "    height: 32px;\n",
              "    padding: 0;\n",
              "    width: 32px;\n",
              "  }\n",
              "\n",
              "  .colab-df-quickchart:hover {\n",
              "    background-color: var(--hover-bg-color);\n",
              "    box-shadow: 0 1px 2px rgba(60, 64, 67, 0.3), 0 1px 3px 1px rgba(60, 64, 67, 0.15);\n",
              "    fill: var(--button-hover-fill-color);\n",
              "  }\n",
              "\n",
              "  .colab-df-quickchart-complete:disabled,\n",
              "  .colab-df-quickchart-complete:disabled:hover {\n",
              "    background-color: var(--disabled-bg-color);\n",
              "    fill: var(--disabled-fill-color);\n",
              "    box-shadow: none;\n",
              "  }\n",
              "\n",
              "  .colab-df-spinner {\n",
              "    border: 2px solid var(--fill-color);\n",
              "    border-color: transparent;\n",
              "    border-bottom-color: var(--fill-color);\n",
              "    animation:\n",
              "      spin 1s steps(1) infinite;\n",
              "  }\n",
              "\n",
              "  @keyframes spin {\n",
              "    0% {\n",
              "      border-color: transparent;\n",
              "      border-bottom-color: var(--fill-color);\n",
              "      border-left-color: var(--fill-color);\n",
              "    }\n",
              "    20% {\n",
              "      border-color: transparent;\n",
              "      border-left-color: var(--fill-color);\n",
              "      border-top-color: var(--fill-color);\n",
              "    }\n",
              "    30% {\n",
              "      border-color: transparent;\n",
              "      border-left-color: var(--fill-color);\n",
              "      border-top-color: var(--fill-color);\n",
              "      border-right-color: var(--fill-color);\n",
              "    }\n",
              "    40% {\n",
              "      border-color: transparent;\n",
              "      border-right-color: var(--fill-color);\n",
              "      border-top-color: var(--fill-color);\n",
              "    }\n",
              "    60% {\n",
              "      border-color: transparent;\n",
              "      border-right-color: var(--fill-color);\n",
              "    }\n",
              "    80% {\n",
              "      border-color: transparent;\n",
              "      border-right-color: var(--fill-color);\n",
              "      border-bottom-color: var(--fill-color);\n",
              "    }\n",
              "    90% {\n",
              "      border-color: transparent;\n",
              "      border-bottom-color: var(--fill-color);\n",
              "    }\n",
              "  }\n",
              "</style>\n",
              "\n",
              "      <script>\n",
              "        async function quickchart(key) {\n",
              "          const quickchartButtonEl =\n",
              "            document.querySelector('#' + key + ' button');\n",
              "          quickchartButtonEl.disabled = true;  // To prevent multiple clicks.\n",
              "          quickchartButtonEl.classList.add('colab-df-spinner');\n",
              "          try {\n",
              "            const charts = await google.colab.kernel.invokeFunction(\n",
              "                'suggestCharts', [key], {});\n",
              "          } catch (error) {\n",
              "            console.error('Error during call to suggestCharts:', error);\n",
              "          }\n",
              "          quickchartButtonEl.classList.remove('colab-df-spinner');\n",
              "          quickchartButtonEl.classList.add('colab-df-quickchart-complete');\n",
              "        }\n",
              "        (() => {\n",
              "          let quickchartButtonEl =\n",
              "            document.querySelector('#df-a46c44eb-5668-456d-9606-5fc45685252e button');\n",
              "          quickchartButtonEl.style.display =\n",
              "            google.colab.kernel.accessAllowed ? 'block' : 'none';\n",
              "        })();\n",
              "      </script>\n",
              "    </div>\n",
              "\n",
              "    </div>\n",
              "  </div>\n"
            ],
            "application/vnd.google.colaboratory.intrinsic+json": {
              "type": "dataframe",
              "variable_name": "df",
              "summary": "{\n  \"name\": \"df\",\n  \"rows\": 100,\n  \"fields\": [\n    {\n      \"column\": \"Age_Group\",\n      \"properties\": {\n        \"dtype\": \"category\",\n        \"num_unique_values\": 4,\n        \"samples\": [\n          \"46-60\",\n          \"26-35\",\n          \"36-45\"\n        ],\n        \"semantic_type\": \"\",\n        \"description\": \"\"\n      }\n    },\n    {\n      \"column\": \"Smoker\",\n      \"properties\": {\n        \"dtype\": \"category\",\n        \"num_unique_values\": 2,\n        \"samples\": [\n          \"No\",\n          \"Yes\"\n        ],\n        \"semantic_type\": \"\",\n        \"description\": \"\"\n      }\n    },\n    {\n      \"column\": \"Exercise_Level\",\n      \"properties\": {\n        \"dtype\": \"category\",\n        \"num_unique_values\": 3,\n        \"samples\": [\n          \"High\",\n          \"Low\"\n        ],\n        \"semantic_type\": \"\",\n        \"description\": \"\"\n      }\n    },\n    {\n      \"column\": \"Diet_Quality\",\n      \"properties\": {\n        \"dtype\": \"category\",\n        \"num_unique_values\": 3,\n        \"samples\": [\n          \"Good\",\n          \"Average\"\n        ],\n        \"semantic_type\": \"\",\n        \"description\": \"\"\n      }\n    },\n    {\n      \"column\": \"Alcohol_Consumption\",\n      \"properties\": {\n        \"dtype\": \"category\",\n        \"num_unique_values\": 2,\n        \"samples\": [\n          \"Heavy\",\n          \"Moderate\"\n        ],\n        \"semantic_type\": \"\",\n        \"description\": \"\"\n      }\n    },\n    {\n      \"column\": \"Family_History\",\n      \"properties\": {\n        \"dtype\": \"category\",\n        \"num_unique_values\": 2,\n        \"samples\": [\n          \"Yes\",\n          \"No\"\n        ],\n        \"semantic_type\": \"\",\n        \"description\": \"\"\n      }\n    },\n    {\n      \"column\": \"Has_Lung_Disease\",\n      \"properties\": {\n        \"dtype\": \"category\",\n        \"num_unique_values\": 2,\n        \"samples\": [\n          \"No\",\n          \"Yes\"\n        ],\n        \"semantic_type\": \"\",\n        \"description\": \"\"\n      }\n    }\n  ]\n}"
            }
          },
          "metadata": {},
          "execution_count": 4
        }
      ]
    },
    {
      "cell_type": "code",
      "source": [
        "df['Age_Group'].unique()"
      ],
      "metadata": {
        "colab": {
          "base_uri": "https://localhost:8080/"
        },
        "id": "b2WpxN59efz6",
        "outputId": "6d194817-ecf6-4044-b2fa-47ea2cfd181e"
      },
      "execution_count": null,
      "outputs": [
        {
          "output_type": "execute_result",
          "data": {
            "text/plain": [
              "array(['36-45', '46-60', '18-25', '26-35'], dtype=object)"
            ]
          },
          "metadata": {},
          "execution_count": 6
        }
      ]
    },
    {
      "cell_type": "code",
      "source": [
        "df.columns"
      ],
      "metadata": {
        "colab": {
          "base_uri": "https://localhost:8080/"
        },
        "id": "d5PB3gGopnRp",
        "outputId": "d74014e6-f858-403f-e768-d57c8c974d29"
      },
      "execution_count": null,
      "outputs": [
        {
          "output_type": "execute_result",
          "data": {
            "text/plain": [
              "Index(['Age_Group', 'Smoker', 'Exercise_Level', 'Diet_Quality',\n",
              "       'Alcohol_Consumption', 'Family_History', 'Has_Lung_Disease'],\n",
              "      dtype='object')"
            ]
          },
          "metadata": {},
          "execution_count": 4
        }
      ]
    },
    {
      "cell_type": "code",
      "source": [
        "df.info()"
      ],
      "metadata": {
        "colab": {
          "base_uri": "https://localhost:8080/"
        },
        "id": "hqvmZxmqtMoQ",
        "outputId": "0788c17b-e850-441e-e607-0443d80b4004"
      },
      "execution_count": null,
      "outputs": [
        {
          "output_type": "stream",
          "name": "stdout",
          "text": [
            "<class 'pandas.core.frame.DataFrame'>\n",
            "RangeIndex: 100 entries, 0 to 99\n",
            "Data columns (total 7 columns):\n",
            " #   Column               Non-Null Count  Dtype \n",
            "---  ------               --------------  ----- \n",
            " 0   Age_Group            100 non-null    object\n",
            " 1   Smoker               100 non-null    object\n",
            " 2   Exercise_Level       100 non-null    object\n",
            " 3   Diet_Quality         100 non-null    object\n",
            " 4   Alcohol_Consumption  72 non-null     object\n",
            " 5   Family_History       100 non-null    object\n",
            " 6   Has_Lung_Disease     100 non-null    object\n",
            "dtypes: object(7)\n",
            "memory usage: 5.6+ KB\n"
          ]
        }
      ]
    },
    {
      "cell_type": "code",
      "source": [
        "for i in df.columns:\n",
        "  print(f\"Unique values in {i}: {df[i].unique()}\")"
      ],
      "metadata": {
        "colab": {
          "base_uri": "https://localhost:8080/"
        },
        "id": "Eki7VJ3qnmaA",
        "outputId": "01b99e67-0013-4b7d-fc75-47f3c2c3f366"
      },
      "execution_count": null,
      "outputs": [
        {
          "output_type": "stream",
          "name": "stdout",
          "text": [
            "Unique values in Age_Group: ['36-45' '46-60' '18-25' '26-35']\n",
            "Unique values in Smoker: ['Yes' 'No']\n",
            "Unique values in Exercise_Level: ['High' 'Low' 'Medium']\n",
            "Unique values in Diet_Quality: ['Good' 'Average' 'Poor']\n",
            "Unique values in Alcohol_Consumption: [nan 'Moderate' 'Heavy']\n",
            "Unique values in Family_History: ['No' 'Yes']\n",
            "Unique values in Has_Lung_Disease: ['Yes' 'No']\n"
          ]
        }
      ]
    },
    {
      "cell_type": "code",
      "source": [
        "age_map = {\n",
        "    '18-25': 0,\n",
        "    '26-35': 1,\n",
        "    '36-45': 2,\n",
        "    '46-60': 3\n",
        "}\n",
        "df['Age_Group'] = df['Age_Group'].map(age_map)\n"
      ],
      "metadata": {
        "id": "QIeV8GtAH829"
      },
      "execution_count": null,
      "outputs": []
    },
    {
      "cell_type": "code",
      "source": [
        "from sklearn.preprocessing import OrdinalEncoder"
      ],
      "metadata": {
        "id": "aPS4pDjiomye"
      },
      "execution_count": null,
      "outputs": []
    },
    {
      "cell_type": "code",
      "source": [
        "import numpy as np\n",
        "from sklearn.preprocessing import OrdinalEncoder\n",
        "\n",
        "df['Alcohol_Consumption'] = df['Alcohol_Consumption'].fillna('Missing')\n",
        "# Ensure columns are strings (object dtype)\n",
        "ordinal_columns = ['Exercise_Level', 'Diet_Quality', 'Alcohol_Consumption']\n",
        "\n",
        "for col in ordinal_columns:\n",
        "    df[col] = df[col].astype(str)\n",
        "\n",
        "ordinal_categories = [\n",
        "    ['Low','Medium','High'],                  # Exercise_Level\n",
        "    ['Poor','Average','Good'],                # Diet_Quality\n",
        "    ['Moderate', 'Heavy', 'Missing']             # Alcohol_Consumption\n",
        "]\n",
        "\n",
        "# Use dtype=float to handle NaNs, or set encoded_missing_value to an int (like -1)\n",
        "encoder = OrdinalEncoder(categories=ordinal_categories)  # or use dtype=int, encoded_missing_value=-1\n",
        "\n",
        "ordinal_data = encoder.fit_transform(df[ordinal_columns])\n",
        "df[ordinal_columns] = ordinal_data\n",
        "\n",
        "yes_no_cols = ['Smoker', 'Family_History', 'Has_Lung_Disease']\n",
        "for col in yes_no_cols:\n",
        "    df[col] = df[col].map({'Yes': 1, 'No': 0})\n",
        "\n",
        "print(df.head())\n"
      ],
      "metadata": {
        "colab": {
          "base_uri": "https://localhost:8080/"
        },
        "id": "d4Vg0KMuon-O",
        "outputId": "179240ee-84a8-4419-bfd5-fd3145061543"
      },
      "execution_count": null,
      "outputs": [
        {
          "output_type": "stream",
          "name": "stdout",
          "text": [
            "   Age_Group  Smoker  Exercise_Level  Diet_Quality  Alcohol_Consumption  \\\n",
            "0          2       1             2.0           2.0                  2.0   \n",
            "1          3       0             2.0           2.0                  0.0   \n",
            "2          0       0             0.0           1.0                  2.0   \n",
            "3          2       0             0.0           2.0                  1.0   \n",
            "4          2       0             1.0           2.0                  1.0   \n",
            "\n",
            "   Family_History  Has_Lung_Disease  \n",
            "0               0                 1  \n",
            "1               1                 1  \n",
            "2               1                 0  \n",
            "3               1                 1  \n",
            "4               0                 1  \n"
          ]
        }
      ]
    },
    {
      "cell_type": "code",
      "source": [
        "x = df.drop(columns=['Has_Lung_Disease'])\n",
        "y = df['Has_Lung_Disease']"
      ],
      "metadata": {
        "id": "UbeHqBLbILSP"
      },
      "execution_count": null,
      "outputs": []
    },
    {
      "cell_type": "markdown",
      "source": [
        "# Univariate Feature Selection Techniques"
      ],
      "metadata": {
        "id": "nKPrIAgAiIN6"
      }
    },
    {
      "cell_type": "markdown",
      "source": [
        "## Chi-square Method : Categorical input and Categorical Output"
      ],
      "metadata": {
        "id": "pOuWMqjbIgpw"
      }
    },
    {
      "cell_type": "code",
      "source": [
        "#Importing\n",
        "from sklearn.feature_selection import SelectKBest, chi2"
      ],
      "metadata": {
        "id": "tTZxTSKtiHDr"
      },
      "execution_count": null,
      "outputs": []
    },
    {
      "cell_type": "code",
      "execution_count": null,
      "metadata": {
        "id": "aXflYYmHhuvK",
        "colab": {
          "base_uri": "https://localhost:8080/"
        },
        "outputId": "8809cd63-f794-4a3f-bc99-fe7cc263e275"
      },
      "outputs": [
        {
          "output_type": "execute_result",
          "data": {
            "text/plain": [
              "array([0.19959614, 0.19492115, 0.00428438, 2.21597673, 0.15438494,\n",
              "       0.12987013])"
            ]
          },
          "metadata": {},
          "execution_count": 17
        }
      ],
      "source": [
        "chi_scores, p_values = chi2(x, y)\n",
        "chi_scores"
      ]
    },
    {
      "cell_type": "code",
      "source": [
        "chi2_df = pd.DataFrame({'Columns': x.columns,\n",
        "              'Calculated Chi^2 Values':chi_scores})"
      ],
      "metadata": {
        "id": "ICsCN569JK93"
      },
      "execution_count": null,
      "outputs": []
    },
    {
      "cell_type": "code",
      "source": [
        "# Sort ascending (smallest to largest)\n",
        "chi2_df.sort_values(by='Calculated Chi^2 Values', ascending=False)"
      ],
      "metadata": {
        "colab": {
          "base_uri": "https://localhost:8080/",
          "height": 237
        },
        "id": "fRks3ULcJ9tC",
        "outputId": "6a2a33bb-69b6-4320-a055-4b8a895a7062"
      },
      "execution_count": null,
      "outputs": [
        {
          "output_type": "execute_result",
          "data": {
            "text/plain": [
              "               Columns  Calculated Chi^2 Values\n",
              "3         Diet_Quality                 2.215977\n",
              "0            Age_Group                 0.199596\n",
              "1               Smoker                 0.194921\n",
              "4  Alcohol_Consumption                 0.154385\n",
              "5       Family_History                 0.129870\n",
              "2       Exercise_Level                 0.004284"
            ],
            "text/html": [
              "\n",
              "  <div id=\"df-ef9a5ef6-92bb-4107-8641-7b109783edde\" class=\"colab-df-container\">\n",
              "    <div>\n",
              "<style scoped>\n",
              "    .dataframe tbody tr th:only-of-type {\n",
              "        vertical-align: middle;\n",
              "    }\n",
              "\n",
              "    .dataframe tbody tr th {\n",
              "        vertical-align: top;\n",
              "    }\n",
              "\n",
              "    .dataframe thead th {\n",
              "        text-align: right;\n",
              "    }\n",
              "</style>\n",
              "<table border=\"1\" class=\"dataframe\">\n",
              "  <thead>\n",
              "    <tr style=\"text-align: right;\">\n",
              "      <th></th>\n",
              "      <th>Columns</th>\n",
              "      <th>Calculated Chi^2 Values</th>\n",
              "    </tr>\n",
              "  </thead>\n",
              "  <tbody>\n",
              "    <tr>\n",
              "      <th>3</th>\n",
              "      <td>Diet_Quality</td>\n",
              "      <td>2.215977</td>\n",
              "    </tr>\n",
              "    <tr>\n",
              "      <th>0</th>\n",
              "      <td>Age_Group</td>\n",
              "      <td>0.199596</td>\n",
              "    </tr>\n",
              "    <tr>\n",
              "      <th>1</th>\n",
              "      <td>Smoker</td>\n",
              "      <td>0.194921</td>\n",
              "    </tr>\n",
              "    <tr>\n",
              "      <th>4</th>\n",
              "      <td>Alcohol_Consumption</td>\n",
              "      <td>0.154385</td>\n",
              "    </tr>\n",
              "    <tr>\n",
              "      <th>5</th>\n",
              "      <td>Family_History</td>\n",
              "      <td>0.129870</td>\n",
              "    </tr>\n",
              "    <tr>\n",
              "      <th>2</th>\n",
              "      <td>Exercise_Level</td>\n",
              "      <td>0.004284</td>\n",
              "    </tr>\n",
              "  </tbody>\n",
              "</table>\n",
              "</div>\n",
              "    <div class=\"colab-df-buttons\">\n",
              "\n",
              "  <div class=\"colab-df-container\">\n",
              "    <button class=\"colab-df-convert\" onclick=\"convertToInteractive('df-ef9a5ef6-92bb-4107-8641-7b109783edde')\"\n",
              "            title=\"Convert this dataframe to an interactive table.\"\n",
              "            style=\"display:none;\">\n",
              "\n",
              "  <svg xmlns=\"http://www.w3.org/2000/svg\" height=\"24px\" viewBox=\"0 -960 960 960\">\n",
              "    <path d=\"M120-120v-720h720v720H120Zm60-500h600v-160H180v160Zm220 220h160v-160H400v160Zm0 220h160v-160H400v160ZM180-400h160v-160H180v160Zm440 0h160v-160H620v160ZM180-180h160v-160H180v160Zm440 0h160v-160H620v160Z\"/>\n",
              "  </svg>\n",
              "    </button>\n",
              "\n",
              "  <style>\n",
              "    .colab-df-container {\n",
              "      display:flex;\n",
              "      gap: 12px;\n",
              "    }\n",
              "\n",
              "    .colab-df-convert {\n",
              "      background-color: #E8F0FE;\n",
              "      border: none;\n",
              "      border-radius: 50%;\n",
              "      cursor: pointer;\n",
              "      display: none;\n",
              "      fill: #1967D2;\n",
              "      height: 32px;\n",
              "      padding: 0 0 0 0;\n",
              "      width: 32px;\n",
              "    }\n",
              "\n",
              "    .colab-df-convert:hover {\n",
              "      background-color: #E2EBFA;\n",
              "      box-shadow: 0px 1px 2px rgba(60, 64, 67, 0.3), 0px 1px 3px 1px rgba(60, 64, 67, 0.15);\n",
              "      fill: #174EA6;\n",
              "    }\n",
              "\n",
              "    .colab-df-buttons div {\n",
              "      margin-bottom: 4px;\n",
              "    }\n",
              "\n",
              "    [theme=dark] .colab-df-convert {\n",
              "      background-color: #3B4455;\n",
              "      fill: #D2E3FC;\n",
              "    }\n",
              "\n",
              "    [theme=dark] .colab-df-convert:hover {\n",
              "      background-color: #434B5C;\n",
              "      box-shadow: 0px 1px 3px 1px rgba(0, 0, 0, 0.15);\n",
              "      filter: drop-shadow(0px 1px 2px rgba(0, 0, 0, 0.3));\n",
              "      fill: #FFFFFF;\n",
              "    }\n",
              "  </style>\n",
              "\n",
              "    <script>\n",
              "      const buttonEl =\n",
              "        document.querySelector('#df-ef9a5ef6-92bb-4107-8641-7b109783edde button.colab-df-convert');\n",
              "      buttonEl.style.display =\n",
              "        google.colab.kernel.accessAllowed ? 'block' : 'none';\n",
              "\n",
              "      async function convertToInteractive(key) {\n",
              "        const element = document.querySelector('#df-ef9a5ef6-92bb-4107-8641-7b109783edde');\n",
              "        const dataTable =\n",
              "          await google.colab.kernel.invokeFunction('convertToInteractive',\n",
              "                                                    [key], {});\n",
              "        if (!dataTable) return;\n",
              "\n",
              "        const docLinkHtml = 'Like what you see? Visit the ' +\n",
              "          '<a target=\"_blank\" href=https://colab.research.google.com/notebooks/data_table.ipynb>data table notebook</a>'\n",
              "          + ' to learn more about interactive tables.';\n",
              "        element.innerHTML = '';\n",
              "        dataTable['output_type'] = 'display_data';\n",
              "        await google.colab.output.renderOutput(dataTable, element);\n",
              "        const docLink = document.createElement('div');\n",
              "        docLink.innerHTML = docLinkHtml;\n",
              "        element.appendChild(docLink);\n",
              "      }\n",
              "    </script>\n",
              "  </div>\n",
              "\n",
              "\n",
              "    <div id=\"df-e6daff02-cee2-4d7a-9b9f-233ba89d7084\">\n",
              "      <button class=\"colab-df-quickchart\" onclick=\"quickchart('df-e6daff02-cee2-4d7a-9b9f-233ba89d7084')\"\n",
              "                title=\"Suggest charts\"\n",
              "                style=\"display:none;\">\n",
              "\n",
              "<svg xmlns=\"http://www.w3.org/2000/svg\" height=\"24px\"viewBox=\"0 0 24 24\"\n",
              "     width=\"24px\">\n",
              "    <g>\n",
              "        <path d=\"M19 3H5c-1.1 0-2 .9-2 2v14c0 1.1.9 2 2 2h14c1.1 0 2-.9 2-2V5c0-1.1-.9-2-2-2zM9 17H7v-7h2v7zm4 0h-2V7h2v10zm4 0h-2v-4h2v4z\"/>\n",
              "    </g>\n",
              "</svg>\n",
              "      </button>\n",
              "\n",
              "<style>\n",
              "  .colab-df-quickchart {\n",
              "      --bg-color: #E8F0FE;\n",
              "      --fill-color: #1967D2;\n",
              "      --hover-bg-color: #E2EBFA;\n",
              "      --hover-fill-color: #174EA6;\n",
              "      --disabled-fill-color: #AAA;\n",
              "      --disabled-bg-color: #DDD;\n",
              "  }\n",
              "\n",
              "  [theme=dark] .colab-df-quickchart {\n",
              "      --bg-color: #3B4455;\n",
              "      --fill-color: #D2E3FC;\n",
              "      --hover-bg-color: #434B5C;\n",
              "      --hover-fill-color: #FFFFFF;\n",
              "      --disabled-bg-color: #3B4455;\n",
              "      --disabled-fill-color: #666;\n",
              "  }\n",
              "\n",
              "  .colab-df-quickchart {\n",
              "    background-color: var(--bg-color);\n",
              "    border: none;\n",
              "    border-radius: 50%;\n",
              "    cursor: pointer;\n",
              "    display: none;\n",
              "    fill: var(--fill-color);\n",
              "    height: 32px;\n",
              "    padding: 0;\n",
              "    width: 32px;\n",
              "  }\n",
              "\n",
              "  .colab-df-quickchart:hover {\n",
              "    background-color: var(--hover-bg-color);\n",
              "    box-shadow: 0 1px 2px rgba(60, 64, 67, 0.3), 0 1px 3px 1px rgba(60, 64, 67, 0.15);\n",
              "    fill: var(--button-hover-fill-color);\n",
              "  }\n",
              "\n",
              "  .colab-df-quickchart-complete:disabled,\n",
              "  .colab-df-quickchart-complete:disabled:hover {\n",
              "    background-color: var(--disabled-bg-color);\n",
              "    fill: var(--disabled-fill-color);\n",
              "    box-shadow: none;\n",
              "  }\n",
              "\n",
              "  .colab-df-spinner {\n",
              "    border: 2px solid var(--fill-color);\n",
              "    border-color: transparent;\n",
              "    border-bottom-color: var(--fill-color);\n",
              "    animation:\n",
              "      spin 1s steps(1) infinite;\n",
              "  }\n",
              "\n",
              "  @keyframes spin {\n",
              "    0% {\n",
              "      border-color: transparent;\n",
              "      border-bottom-color: var(--fill-color);\n",
              "      border-left-color: var(--fill-color);\n",
              "    }\n",
              "    20% {\n",
              "      border-color: transparent;\n",
              "      border-left-color: var(--fill-color);\n",
              "      border-top-color: var(--fill-color);\n",
              "    }\n",
              "    30% {\n",
              "      border-color: transparent;\n",
              "      border-left-color: var(--fill-color);\n",
              "      border-top-color: var(--fill-color);\n",
              "      border-right-color: var(--fill-color);\n",
              "    }\n",
              "    40% {\n",
              "      border-color: transparent;\n",
              "      border-right-color: var(--fill-color);\n",
              "      border-top-color: var(--fill-color);\n",
              "    }\n",
              "    60% {\n",
              "      border-color: transparent;\n",
              "      border-right-color: var(--fill-color);\n",
              "    }\n",
              "    80% {\n",
              "      border-color: transparent;\n",
              "      border-right-color: var(--fill-color);\n",
              "      border-bottom-color: var(--fill-color);\n",
              "    }\n",
              "    90% {\n",
              "      border-color: transparent;\n",
              "      border-bottom-color: var(--fill-color);\n",
              "    }\n",
              "  }\n",
              "</style>\n",
              "\n",
              "      <script>\n",
              "        async function quickchart(key) {\n",
              "          const quickchartButtonEl =\n",
              "            document.querySelector('#' + key + ' button');\n",
              "          quickchartButtonEl.disabled = true;  // To prevent multiple clicks.\n",
              "          quickchartButtonEl.classList.add('colab-df-spinner');\n",
              "          try {\n",
              "            const charts = await google.colab.kernel.invokeFunction(\n",
              "                'suggestCharts', [key], {});\n",
              "          } catch (error) {\n",
              "            console.error('Error during call to suggestCharts:', error);\n",
              "          }\n",
              "          quickchartButtonEl.classList.remove('colab-df-spinner');\n",
              "          quickchartButtonEl.classList.add('colab-df-quickchart-complete');\n",
              "        }\n",
              "        (() => {\n",
              "          let quickchartButtonEl =\n",
              "            document.querySelector('#df-e6daff02-cee2-4d7a-9b9f-233ba89d7084 button');\n",
              "          quickchartButtonEl.style.display =\n",
              "            google.colab.kernel.accessAllowed ? 'block' : 'none';\n",
              "        })();\n",
              "      </script>\n",
              "    </div>\n",
              "\n",
              "    </div>\n",
              "  </div>\n"
            ],
            "application/vnd.google.colaboratory.intrinsic+json": {
              "type": "dataframe",
              "summary": "{\n  \"name\": \"chi2_df\",\n  \"rows\": 6,\n  \"fields\": [\n    {\n      \"column\": \"Columns\",\n      \"properties\": {\n        \"dtype\": \"string\",\n        \"num_unique_values\": 6,\n        \"samples\": [\n          \"Diet_Quality\",\n          \"Age_Group\",\n          \"Exercise_Level\"\n        ],\n        \"semantic_type\": \"\",\n        \"description\": \"\"\n      }\n    },\n    {\n      \"column\": \"Calculated Chi^2 Values\",\n      \"properties\": {\n        \"dtype\": \"number\",\n        \"std\": 0.8518653132693722,\n        \"min\": 0.004284375418396128,\n        \"max\": 2.2159767316017307,\n        \"num_unique_values\": 6,\n        \"samples\": [\n          2.2159767316017307,\n          0.19959613557174583,\n          0.004284375418396128\n        ],\n        \"semantic_type\": \"\",\n        \"description\": \"\"\n      }\n    }\n  ]\n}"
            }
          },
          "metadata": {},
          "execution_count": 23
        }
      ]
    },
    {
      "cell_type": "markdown",
      "source": [
        "Using sklearn"
      ],
      "metadata": {
        "id": "OJPth78aKlgd"
      }
    },
    {
      "cell_type": "code",
      "source": [
        "from sklearn.feature_selection import SelectKBest, chi2\n",
        "import pandas as pd\n",
        "\n",
        "# Assuming x = input features, y = target labels\n",
        "\n",
        "# Apply Chi-Squared feature selection\n",
        "chi_selector = SelectKBest(score_func=chi2, k=4)\n",
        "x_kbest = chi_selector.fit_transform(x, y)\n",
        "\n",
        "# Get the selected column names\n",
        "selected_columns = x.columns[chi_selector.get_support()]\n",
        "\n",
        "# Create a DataFrame with selected features\n",
        "x_selected = pd.DataFrame(x_kbest, columns=selected_columns)\n",
        "\n",
        "print(\"Selected top 4 features using Chi² test:\")\n",
        "print(selected_columns)\n"
      ],
      "metadata": {
        "colab": {
          "base_uri": "https://localhost:8080/"
        },
        "id": "-3B-rP0qKJrL",
        "outputId": "8b30b173-a3e4-47e9-a5ae-e63ea93c050f"
      },
      "execution_count": null,
      "outputs": [
        {
          "output_type": "stream",
          "name": "stdout",
          "text": [
            "Selected top 4 features using Chi² test:\n",
            "Index(['Age_Group', 'Smoker', 'Diet_Quality', 'Alcohol_Consumption'], dtype='object')\n"
          ]
        }
      ]
    },
    {
      "cell_type": "markdown",
      "source": [
        "## ANOVA F-test: Numerical Input and Categorical Output"
      ],
      "metadata": {
        "id": "HAhaSfzsOgxL"
      }
    },
    {
      "cell_type": "markdown",
      "source": [
        "![Screenshot 2025-05-20 160151.png](data:image/png;base64,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)"
      ],
      "metadata": {
        "id": "Nq_Cl8BHQAqo"
      }
    },
    {
      "cell_type": "code",
      "source": [
        "anovaf_df = pd.read_csv('diabetes.csv')"
      ],
      "metadata": {
        "id": "_yxWep5XOV3o"
      },
      "execution_count": null,
      "outputs": []
    },
    {
      "cell_type": "code",
      "source": [
        "anovaf_df.columns"
      ],
      "metadata": {
        "colab": {
          "base_uri": "https://localhost:8080/"
        },
        "id": "jZtaOJ28OpVG",
        "outputId": "3d817111-c993-491d-bd6a-0ee75f6c46e7"
      },
      "execution_count": null,
      "outputs": [
        {
          "output_type": "execute_result",
          "data": {
            "text/plain": [
              "Index(['Pregnancies', 'Glucose', 'BloodPressure', 'SkinThickness', 'Insulin',\n",
              "       'BMI', 'DiabetesPedigreeFunction', 'Age', 'Outcome'],\n",
              "      dtype='object')"
            ]
          },
          "metadata": {},
          "execution_count": 32
        }
      ]
    },
    {
      "cell_type": "code",
      "source": [
        "x = anovaf_df.drop(columns=['Outcome'])\n",
        "y = anovaf_df['Outcome']"
      ],
      "metadata": {
        "id": "b3HGnRzJOtwH"
      },
      "execution_count": null,
      "outputs": []
    },
    {
      "cell_type": "code",
      "source": [
        "from sklearn.feature_selection import SelectKBest, f_classif\n",
        "# Apply ANOVA F-test\n",
        "f_test = SelectKBest(score_func=f_classif, k=4)  # Select top 4 features\n",
        "X_selected = f_test.fit_transform(x, y)\n",
        "\n",
        "# Show scores\n",
        "f_scores = f_test.scores_\n",
        "f_df = pd.DataFrame({'Feature': x.columns, 'F-Score': f_scores})\n",
        "f_df.sort_values(by='F-Score', ascending=False)"
      ],
      "metadata": {
        "colab": {
          "base_uri": "https://localhost:8080/",
          "height": 300
        },
        "id": "GSL-k1WOO-08",
        "outputId": "cde11786-ee3d-49d5-9eba-8fbccd7407c5"
      },
      "execution_count": null,
      "outputs": [
        {
          "output_type": "execute_result",
          "data": {
            "text/plain": [
              "                    Feature     F-Score\n",
              "1                   Glucose  213.161752\n",
              "5                       BMI   71.772072\n",
              "7                       Age   46.140611\n",
              "0               Pregnancies   39.670227\n",
              "6  DiabetesPedigreeFunction   23.871300\n",
              "4                   Insulin   13.281108\n",
              "3             SkinThickness    4.304381\n",
              "2             BloodPressure    3.256950"
            ],
            "text/html": [
              "\n",
              "  <div id=\"df-8588448a-084c-4130-9aa7-e7e470b595f8\" class=\"colab-df-container\">\n",
              "    <div>\n",
              "<style scoped>\n",
              "    .dataframe tbody tr th:only-of-type {\n",
              "        vertical-align: middle;\n",
              "    }\n",
              "\n",
              "    .dataframe tbody tr th {\n",
              "        vertical-align: top;\n",
              "    }\n",
              "\n",
              "    .dataframe thead th {\n",
              "        text-align: right;\n",
              "    }\n",
              "</style>\n",
              "<table border=\"1\" class=\"dataframe\">\n",
              "  <thead>\n",
              "    <tr style=\"text-align: right;\">\n",
              "      <th></th>\n",
              "      <th>Feature</th>\n",
              "      <th>F-Score</th>\n",
              "    </tr>\n",
              "  </thead>\n",
              "  <tbody>\n",
              "    <tr>\n",
              "      <th>1</th>\n",
              "      <td>Glucose</td>\n",
              "      <td>213.161752</td>\n",
              "    </tr>\n",
              "    <tr>\n",
              "      <th>5</th>\n",
              "      <td>BMI</td>\n",
              "      <td>71.772072</td>\n",
              "    </tr>\n",
              "    <tr>\n",
              "      <th>7</th>\n",
              "      <td>Age</td>\n",
              "      <td>46.140611</td>\n",
              "    </tr>\n",
              "    <tr>\n",
              "      <th>0</th>\n",
              "      <td>Pregnancies</td>\n",
              "      <td>39.670227</td>\n",
              "    </tr>\n",
              "    <tr>\n",
              "      <th>6</th>\n",
              "      <td>DiabetesPedigreeFunction</td>\n",
              "      <td>23.871300</td>\n",
              "    </tr>\n",
              "    <tr>\n",
              "      <th>4</th>\n",
              "      <td>Insulin</td>\n",
              "      <td>13.281108</td>\n",
              "    </tr>\n",
              "    <tr>\n",
              "      <th>3</th>\n",
              "      <td>SkinThickness</td>\n",
              "      <td>4.304381</td>\n",
              "    </tr>\n",
              "    <tr>\n",
              "      <th>2</th>\n",
              "      <td>BloodPressure</td>\n",
              "      <td>3.256950</td>\n",
              "    </tr>\n",
              "  </tbody>\n",
              "</table>\n",
              "</div>\n",
              "    <div class=\"colab-df-buttons\">\n",
              "\n",
              "  <div class=\"colab-df-container\">\n",
              "    <button class=\"colab-df-convert\" onclick=\"convertToInteractive('df-8588448a-084c-4130-9aa7-e7e470b595f8')\"\n",
              "            title=\"Convert this dataframe to an interactive table.\"\n",
              "            style=\"display:none;\">\n",
              "\n",
              "  <svg xmlns=\"http://www.w3.org/2000/svg\" height=\"24px\" viewBox=\"0 -960 960 960\">\n",
              "    <path d=\"M120-120v-720h720v720H120Zm60-500h600v-160H180v160Zm220 220h160v-160H400v160Zm0 220h160v-160H400v160ZM180-400h160v-160H180v160Zm440 0h160v-160H620v160ZM180-180h160v-160H180v160Zm440 0h160v-160H620v160Z\"/>\n",
              "  </svg>\n",
              "    </button>\n",
              "\n",
              "  <style>\n",
              "    .colab-df-container {\n",
              "      display:flex;\n",
              "      gap: 12px;\n",
              "    }\n",
              "\n",
              "    .colab-df-convert {\n",
              "      background-color: #E8F0FE;\n",
              "      border: none;\n",
              "      border-radius: 50%;\n",
              "      cursor: pointer;\n",
              "      display: none;\n",
              "      fill: #1967D2;\n",
              "      height: 32px;\n",
              "      padding: 0 0 0 0;\n",
              "      width: 32px;\n",
              "    }\n",
              "\n",
              "    .colab-df-convert:hover {\n",
              "      background-color: #E2EBFA;\n",
              "      box-shadow: 0px 1px 2px rgba(60, 64, 67, 0.3), 0px 1px 3px 1px rgba(60, 64, 67, 0.15);\n",
              "      fill: #174EA6;\n",
              "    }\n",
              "\n",
              "    .colab-df-buttons div {\n",
              "      margin-bottom: 4px;\n",
              "    }\n",
              "\n",
              "    [theme=dark] .colab-df-convert {\n",
              "      background-color: #3B4455;\n",
              "      fill: #D2E3FC;\n",
              "    }\n",
              "\n",
              "    [theme=dark] .colab-df-convert:hover {\n",
              "      background-color: #434B5C;\n",
              "      box-shadow: 0px 1px 3px 1px rgba(0, 0, 0, 0.15);\n",
              "      filter: drop-shadow(0px 1px 2px rgba(0, 0, 0, 0.3));\n",
              "      fill: #FFFFFF;\n",
              "    }\n",
              "  </style>\n",
              "\n",
              "    <script>\n",
              "      const buttonEl =\n",
              "        document.querySelector('#df-8588448a-084c-4130-9aa7-e7e470b595f8 button.colab-df-convert');\n",
              "      buttonEl.style.display =\n",
              "        google.colab.kernel.accessAllowed ? 'block' : 'none';\n",
              "\n",
              "      async function convertToInteractive(key) {\n",
              "        const element = document.querySelector('#df-8588448a-084c-4130-9aa7-e7e470b595f8');\n",
              "        const dataTable =\n",
              "          await google.colab.kernel.invokeFunction('convertToInteractive',\n",
              "                                                    [key], {});\n",
              "        if (!dataTable) return;\n",
              "\n",
              "        const docLinkHtml = 'Like what you see? Visit the ' +\n",
              "          '<a target=\"_blank\" href=https://colab.research.google.com/notebooks/data_table.ipynb>data table notebook</a>'\n",
              "          + ' to learn more about interactive tables.';\n",
              "        element.innerHTML = '';\n",
              "        dataTable['output_type'] = 'display_data';\n",
              "        await google.colab.output.renderOutput(dataTable, element);\n",
              "        const docLink = document.createElement('div');\n",
              "        docLink.innerHTML = docLinkHtml;\n",
              "        element.appendChild(docLink);\n",
              "      }\n",
              "    </script>\n",
              "  </div>\n",
              "\n",
              "\n",
              "    <div id=\"df-7ac399ec-00bd-49ab-88a8-203b68d9f8db\">\n",
              "      <button class=\"colab-df-quickchart\" onclick=\"quickchart('df-7ac399ec-00bd-49ab-88a8-203b68d9f8db')\"\n",
              "                title=\"Suggest charts\"\n",
              "                style=\"display:none;\">\n",
              "\n",
              "<svg xmlns=\"http://www.w3.org/2000/svg\" height=\"24px\"viewBox=\"0 0 24 24\"\n",
              "     width=\"24px\">\n",
              "    <g>\n",
              "        <path d=\"M19 3H5c-1.1 0-2 .9-2 2v14c0 1.1.9 2 2 2h14c1.1 0 2-.9 2-2V5c0-1.1-.9-2-2-2zM9 17H7v-7h2v7zm4 0h-2V7h2v10zm4 0h-2v-4h2v4z\"/>\n",
              "    </g>\n",
              "</svg>\n",
              "      </button>\n",
              "\n",
              "<style>\n",
              "  .colab-df-quickchart {\n",
              "      --bg-color: #E8F0FE;\n",
              "      --fill-color: #1967D2;\n",
              "      --hover-bg-color: #E2EBFA;\n",
              "      --hover-fill-color: #174EA6;\n",
              "      --disabled-fill-color: #AAA;\n",
              "      --disabled-bg-color: #DDD;\n",
              "  }\n",
              "\n",
              "  [theme=dark] .colab-df-quickchart {\n",
              "      --bg-color: #3B4455;\n",
              "      --fill-color: #D2E3FC;\n",
              "      --hover-bg-color: #434B5C;\n",
              "      --hover-fill-color: #FFFFFF;\n",
              "      --disabled-bg-color: #3B4455;\n",
              "      --disabled-fill-color: #666;\n",
              "  }\n",
              "\n",
              "  .colab-df-quickchart {\n",
              "    background-color: var(--bg-color);\n",
              "    border: none;\n",
              "    border-radius: 50%;\n",
              "    cursor: pointer;\n",
              "    display: none;\n",
              "    fill: var(--fill-color);\n",
              "    height: 32px;\n",
              "    padding: 0;\n",
              "    width: 32px;\n",
              "  }\n",
              "\n",
              "  .colab-df-quickchart:hover {\n",
              "    background-color: var(--hover-bg-color);\n",
              "    box-shadow: 0 1px 2px rgba(60, 64, 67, 0.3), 0 1px 3px 1px rgba(60, 64, 67, 0.15);\n",
              "    fill: var(--button-hover-fill-color);\n",
              "  }\n",
              "\n",
              "  .colab-df-quickchart-complete:disabled,\n",
              "  .colab-df-quickchart-complete:disabled:hover {\n",
              "    background-color: var(--disabled-bg-color);\n",
              "    fill: var(--disabled-fill-color);\n",
              "    box-shadow: none;\n",
              "  }\n",
              "\n",
              "  .colab-df-spinner {\n",
              "    border: 2px solid var(--fill-color);\n",
              "    border-color: transparent;\n",
              "    border-bottom-color: var(--fill-color);\n",
              "    animation:\n",
              "      spin 1s steps(1) infinite;\n",
              "  }\n",
              "\n",
              "  @keyframes spin {\n",
              "    0% {\n",
              "      border-color: transparent;\n",
              "      border-bottom-color: var(--fill-color);\n",
              "      border-left-color: var(--fill-color);\n",
              "    }\n",
              "    20% {\n",
              "      border-color: transparent;\n",
              "      border-left-color: var(--fill-color);\n",
              "      border-top-color: var(--fill-color);\n",
              "    }\n",
              "    30% {\n",
              "      border-color: transparent;\n",
              "      border-left-color: var(--fill-color);\n",
              "      border-top-color: var(--fill-color);\n",
              "      border-right-color: var(--fill-color);\n",
              "    }\n",
              "    40% {\n",
              "      border-color: transparent;\n",
              "      border-right-color: var(--fill-color);\n",
              "      border-top-color: var(--fill-color);\n",
              "    }\n",
              "    60% {\n",
              "      border-color: transparent;\n",
              "      border-right-color: var(--fill-color);\n",
              "    }\n",
              "    80% {\n",
              "      border-color: transparent;\n",
              "      border-right-color: var(--fill-color);\n",
              "      border-bottom-color: var(--fill-color);\n",
              "    }\n",
              "    90% {\n",
              "      border-color: transparent;\n",
              "      border-bottom-color: var(--fill-color);\n",
              "    }\n",
              "  }\n",
              "</style>\n",
              "\n",
              "      <script>\n",
              "        async function quickchart(key) {\n",
              "          const quickchartButtonEl =\n",
              "            document.querySelector('#' + key + ' button');\n",
              "          quickchartButtonEl.disabled = true;  // To prevent multiple clicks.\n",
              "          quickchartButtonEl.classList.add('colab-df-spinner');\n",
              "          try {\n",
              "            const charts = await google.colab.kernel.invokeFunction(\n",
              "                'suggestCharts', [key], {});\n",
              "          } catch (error) {\n",
              "            console.error('Error during call to suggestCharts:', error);\n",
              "          }\n",
              "          quickchartButtonEl.classList.remove('colab-df-spinner');\n",
              "          quickchartButtonEl.classList.add('colab-df-quickchart-complete');\n",
              "        }\n",
              "        (() => {\n",
              "          let quickchartButtonEl =\n",
              "            document.querySelector('#df-7ac399ec-00bd-49ab-88a8-203b68d9f8db button');\n",
              "          quickchartButtonEl.style.display =\n",
              "            google.colab.kernel.accessAllowed ? 'block' : 'none';\n",
              "        })();\n",
              "      </script>\n",
              "    </div>\n",
              "\n",
              "    </div>\n",
              "  </div>\n"
            ],
            "application/vnd.google.colaboratory.intrinsic+json": {
              "type": "dataframe",
              "summary": "{\n  \"name\": \"f_df\",\n  \"rows\": 8,\n  \"fields\": [\n    {\n      \"column\": \"Feature\",\n      \"properties\": {\n        \"dtype\": \"string\",\n        \"num_unique_values\": 8,\n        \"samples\": [\n          \"BMI\",\n          \"Insulin\",\n          \"Glucose\"\n        ],\n        \"semantic_type\": \"\",\n        \"description\": \"\"\n      }\n    },\n    {\n      \"column\": \"F-Score\",\n      \"properties\": {\n        \"dtype\": \"number\",\n        \"std\": 69.17007777419525,\n        \"min\": 3.256950397889028,\n        \"max\": 213.16175217803828,\n        \"num_unique_values\": 8,\n        \"samples\": [\n          71.7720721022405,\n          13.281107531096337,\n          213.16175217803828\n        ],\n        \"semantic_type\": \"\",\n        \"description\": \"\"\n      }\n    }\n  ]\n}"
            }
          },
          "metadata": {},
          "execution_count": 39
        }
      ]
    },
    {
      "cell_type": "code",
      "source": [
        "selected_columns = x.columns[f_test.get_support()]\n",
        "print(selected_columns)\n"
      ],
      "metadata": {
        "colab": {
          "base_uri": "https://localhost:8080/"
        },
        "id": "ua6n79MdPmYq",
        "outputId": "75d7f69b-b975-4c8c-cf46-2cb939048edd"
      },
      "execution_count": null,
      "outputs": [
        {
          "output_type": "stream",
          "name": "stdout",
          "text": [
            "Index(['Pregnancies', 'Glucose', 'BMI', 'Age'], dtype='object')\n"
          ]
        }
      ]
    },
    {
      "cell_type": "markdown",
      "source": [
        "##F-Statistic for Regression"
      ],
      "metadata": {
        "id": "Gulx6YrzjTuf"
      }
    },
    {
      "cell_type": "code",
      "source": [
        "from sklearn.feature_selection import SelectKBest, f_regression\n",
        "\n",
        "import pandas as pd\n",
        "\n",
        "regression_df = pd.read_csv('regression.csv')\n",
        "regression_df.head()"
      ],
      "metadata": {
        "colab": {
          "base_uri": "https://localhost:8080/",
          "height": 206
        },
        "id": "G8Z2xqHSjQkK",
        "outputId": "a5deb191-9617-4795-f417-6e0442555775"
      },
      "execution_count": null,
      "outputs": [
        {
          "output_type": "execute_result",
          "data": {
            "text/plain": [
              "   Feature_1  Feature_2  Feature_3  Feature_4      Target\n",
              "0  -0.075572   1.131629   0.488518   1.519817  241.657989\n",
              "1  -0.200758   0.186561  -0.222328   0.410052   34.598535\n",
              "2   0.550537   0.792807  -1.230058  -0.623531  -71.375391\n",
              "3   0.137701   0.077821   0.529465   0.618380  100.008876\n",
              "4   0.784771  -0.955425   0.417302   0.585910   29.482828"
            ],
            "text/html": [
              "\n",
              "  <div id=\"df-2d95e5b5-0388-43e3-9e7c-ffef9825ba2a\" class=\"colab-df-container\">\n",
              "    <div>\n",
              "<style scoped>\n",
              "    .dataframe tbody tr th:only-of-type {\n",
              "        vertical-align: middle;\n",
              "    }\n",
              "\n",
              "    .dataframe tbody tr th {\n",
              "        vertical-align: top;\n",
              "    }\n",
              "\n",
              "    .dataframe thead th {\n",
              "        text-align: right;\n",
              "    }\n",
              "</style>\n",
              "<table border=\"1\" class=\"dataframe\">\n",
              "  <thead>\n",
              "    <tr style=\"text-align: right;\">\n",
              "      <th></th>\n",
              "      <th>Feature_1</th>\n",
              "      <th>Feature_2</th>\n",
              "      <th>Feature_3</th>\n",
              "      <th>Feature_4</th>\n",
              "      <th>Target</th>\n",
              "    </tr>\n",
              "  </thead>\n",
              "  <tbody>\n",
              "    <tr>\n",
              "      <th>0</th>\n",
              "      <td>-0.075572</td>\n",
              "      <td>1.131629</td>\n",
              "      <td>0.488518</td>\n",
              "      <td>1.519817</td>\n",
              "      <td>241.657989</td>\n",
              "    </tr>\n",
              "    <tr>\n",
              "      <th>1</th>\n",
              "      <td>-0.200758</td>\n",
              "      <td>0.186561</td>\n",
              "      <td>-0.222328</td>\n",
              "      <td>0.410052</td>\n",
              "      <td>34.598535</td>\n",
              "    </tr>\n",
              "    <tr>\n",
              "      <th>2</th>\n",
              "      <td>0.550537</td>\n",
              "      <td>0.792807</td>\n",
              "      <td>-1.230058</td>\n",
              "      <td>-0.623531</td>\n",
              "      <td>-71.375391</td>\n",
              "    </tr>\n",
              "    <tr>\n",
              "      <th>3</th>\n",
              "      <td>0.137701</td>\n",
              "      <td>0.077821</td>\n",
              "      <td>0.529465</td>\n",
              "      <td>0.618380</td>\n",
              "      <td>100.008876</td>\n",
              "    </tr>\n",
              "    <tr>\n",
              "      <th>4</th>\n",
              "      <td>0.784771</td>\n",
              "      <td>-0.955425</td>\n",
              "      <td>0.417302</td>\n",
              "      <td>0.585910</td>\n",
              "      <td>29.482828</td>\n",
              "    </tr>\n",
              "  </tbody>\n",
              "</table>\n",
              "</div>\n",
              "    <div class=\"colab-df-buttons\">\n",
              "\n",
              "  <div class=\"colab-df-container\">\n",
              "    <button class=\"colab-df-convert\" onclick=\"convertToInteractive('df-2d95e5b5-0388-43e3-9e7c-ffef9825ba2a')\"\n",
              "            title=\"Convert this dataframe to an interactive table.\"\n",
              "            style=\"display:none;\">\n",
              "\n",
              "  <svg xmlns=\"http://www.w3.org/2000/svg\" height=\"24px\" viewBox=\"0 -960 960 960\">\n",
              "    <path d=\"M120-120v-720h720v720H120Zm60-500h600v-160H180v160Zm220 220h160v-160H400v160Zm0 220h160v-160H400v160ZM180-400h160v-160H180v160Zm440 0h160v-160H620v160ZM180-180h160v-160H180v160Zm440 0h160v-160H620v160Z\"/>\n",
              "  </svg>\n",
              "    </button>\n",
              "\n",
              "  <style>\n",
              "    .colab-df-container {\n",
              "      display:flex;\n",
              "      gap: 12px;\n",
              "    }\n",
              "\n",
              "    .colab-df-convert {\n",
              "      background-color: #E8F0FE;\n",
              "      border: none;\n",
              "      border-radius: 50%;\n",
              "      cursor: pointer;\n",
              "      display: none;\n",
              "      fill: #1967D2;\n",
              "      height: 32px;\n",
              "      padding: 0 0 0 0;\n",
              "      width: 32px;\n",
              "    }\n",
              "\n",
              "    .colab-df-convert:hover {\n",
              "      background-color: #E2EBFA;\n",
              "      box-shadow: 0px 1px 2px rgba(60, 64, 67, 0.3), 0px 1px 3px 1px rgba(60, 64, 67, 0.15);\n",
              "      fill: #174EA6;\n",
              "    }\n",
              "\n",
              "    .colab-df-buttons div {\n",
              "      margin-bottom: 4px;\n",
              "    }\n",
              "\n",
              "    [theme=dark] .colab-df-convert {\n",
              "      background-color: #3B4455;\n",
              "      fill: #D2E3FC;\n",
              "    }\n",
              "\n",
              "    [theme=dark] .colab-df-convert:hover {\n",
              "      background-color: #434B5C;\n",
              "      box-shadow: 0px 1px 3px 1px rgba(0, 0, 0, 0.15);\n",
              "      filter: drop-shadow(0px 1px 2px rgba(0, 0, 0, 0.3));\n",
              "      fill: #FFFFFF;\n",
              "    }\n",
              "  </style>\n",
              "\n",
              "    <script>\n",
              "      const buttonEl =\n",
              "        document.querySelector('#df-2d95e5b5-0388-43e3-9e7c-ffef9825ba2a button.colab-df-convert');\n",
              "      buttonEl.style.display =\n",
              "        google.colab.kernel.accessAllowed ? 'block' : 'none';\n",
              "\n",
              "      async function convertToInteractive(key) {\n",
              "        const element = document.querySelector('#df-2d95e5b5-0388-43e3-9e7c-ffef9825ba2a');\n",
              "        const dataTable =\n",
              "          await google.colab.kernel.invokeFunction('convertToInteractive',\n",
              "                                                    [key], {});\n",
              "        if (!dataTable) return;\n",
              "\n",
              "        const docLinkHtml = 'Like what you see? Visit the ' +\n",
              "          '<a target=\"_blank\" href=https://colab.research.google.com/notebooks/data_table.ipynb>data table notebook</a>'\n",
              "          + ' to learn more about interactive tables.';\n",
              "        element.innerHTML = '';\n",
              "        dataTable['output_type'] = 'display_data';\n",
              "        await google.colab.output.renderOutput(dataTable, element);\n",
              "        const docLink = document.createElement('div');\n",
              "        docLink.innerHTML = docLinkHtml;\n",
              "        element.appendChild(docLink);\n",
              "      }\n",
              "    </script>\n",
              "  </div>\n",
              "\n",
              "\n",
              "    <div id=\"df-a7095715-2f61-4abb-a3d1-0e01371ca122\">\n",
              "      <button class=\"colab-df-quickchart\" onclick=\"quickchart('df-a7095715-2f61-4abb-a3d1-0e01371ca122')\"\n",
              "                title=\"Suggest charts\"\n",
              "                style=\"display:none;\">\n",
              "\n",
              "<svg xmlns=\"http://www.w3.org/2000/svg\" height=\"24px\"viewBox=\"0 0 24 24\"\n",
              "     width=\"24px\">\n",
              "    <g>\n",
              "        <path d=\"M19 3H5c-1.1 0-2 .9-2 2v14c0 1.1.9 2 2 2h14c1.1 0 2-.9 2-2V5c0-1.1-.9-2-2-2zM9 17H7v-7h2v7zm4 0h-2V7h2v10zm4 0h-2v-4h2v4z\"/>\n",
              "    </g>\n",
              "</svg>\n",
              "      </button>\n",
              "\n",
              "<style>\n",
              "  .colab-df-quickchart {\n",
              "      --bg-color: #E8F0FE;\n",
              "      --fill-color: #1967D2;\n",
              "      --hover-bg-color: #E2EBFA;\n",
              "      --hover-fill-color: #174EA6;\n",
              "      --disabled-fill-color: #AAA;\n",
              "      --disabled-bg-color: #DDD;\n",
              "  }\n",
              "\n",
              "  [theme=dark] .colab-df-quickchart {\n",
              "      --bg-color: #3B4455;\n",
              "      --fill-color: #D2E3FC;\n",
              "      --hover-bg-color: #434B5C;\n",
              "      --hover-fill-color: #FFFFFF;\n",
              "      --disabled-bg-color: #3B4455;\n",
              "      --disabled-fill-color: #666;\n",
              "  }\n",
              "\n",
              "  .colab-df-quickchart {\n",
              "    background-color: var(--bg-color);\n",
              "    border: none;\n",
              "    border-radius: 50%;\n",
              "    cursor: pointer;\n",
              "    display: none;\n",
              "    fill: var(--fill-color);\n",
              "    height: 32px;\n",
              "    padding: 0;\n",
              "    width: 32px;\n",
              "  }\n",
              "\n",
              "  .colab-df-quickchart:hover {\n",
              "    background-color: var(--hover-bg-color);\n",
              "    box-shadow: 0 1px 2px rgba(60, 64, 67, 0.3), 0 1px 3px 1px rgba(60, 64, 67, 0.15);\n",
              "    fill: var(--button-hover-fill-color);\n",
              "  }\n",
              "\n",
              "  .colab-df-quickchart-complete:disabled,\n",
              "  .colab-df-quickchart-complete:disabled:hover {\n",
              "    background-color: var(--disabled-bg-color);\n",
              "    fill: var(--disabled-fill-color);\n",
              "    box-shadow: none;\n",
              "  }\n",
              "\n",
              "  .colab-df-spinner {\n",
              "    border: 2px solid var(--fill-color);\n",
              "    border-color: transparent;\n",
              "    border-bottom-color: var(--fill-color);\n",
              "    animation:\n",
              "      spin 1s steps(1) infinite;\n",
              "  }\n",
              "\n",
              "  @keyframes spin {\n",
              "    0% {\n",
              "      border-color: transparent;\n",
              "      border-bottom-color: var(--fill-color);\n",
              "      border-left-color: var(--fill-color);\n",
              "    }\n",
              "    20% {\n",
              "      border-color: transparent;\n",
              "      border-left-color: var(--fill-color);\n",
              "      border-top-color: var(--fill-color);\n",
              "    }\n",
              "    30% {\n",
              "      border-color: transparent;\n",
              "      border-left-color: var(--fill-color);\n",
              "      border-top-color: var(--fill-color);\n",
              "      border-right-color: var(--fill-color);\n",
              "    }\n",
              "    40% {\n",
              "      border-color: transparent;\n",
              "      border-right-color: var(--fill-color);\n",
              "      border-top-color: var(--fill-color);\n",
              "    }\n",
              "    60% {\n",
              "      border-color: transparent;\n",
              "      border-right-color: var(--fill-color);\n",
              "    }\n",
              "    80% {\n",
              "      border-color: transparent;\n",
              "      border-right-color: var(--fill-color);\n",
              "      border-bottom-color: var(--fill-color);\n",
              "    }\n",
              "    90% {\n",
              "      border-color: transparent;\n",
              "      border-bottom-color: var(--fill-color);\n",
              "    }\n",
              "  }\n",
              "</style>\n",
              "\n",
              "      <script>\n",
              "        async function quickchart(key) {\n",
              "          const quickchartButtonEl =\n",
              "            document.querySelector('#' + key + ' button');\n",
              "          quickchartButtonEl.disabled = true;  // To prevent multiple clicks.\n",
              "          quickchartButtonEl.classList.add('colab-df-spinner');\n",
              "          try {\n",
              "            const charts = await google.colab.kernel.invokeFunction(\n",
              "                'suggestCharts', [key], {});\n",
              "          } catch (error) {\n",
              "            console.error('Error during call to suggestCharts:', error);\n",
              "          }\n",
              "          quickchartButtonEl.classList.remove('colab-df-spinner');\n",
              "          quickchartButtonEl.classList.add('colab-df-quickchart-complete');\n",
              "        }\n",
              "        (() => {\n",
              "          let quickchartButtonEl =\n",
              "            document.querySelector('#df-a7095715-2f61-4abb-a3d1-0e01371ca122 button');\n",
              "          quickchartButtonEl.style.display =\n",
              "            google.colab.kernel.accessAllowed ? 'block' : 'none';\n",
              "        })();\n",
              "      </script>\n",
              "    </div>\n",
              "\n",
              "    </div>\n",
              "  </div>\n"
            ],
            "application/vnd.google.colaboratory.intrinsic+json": {
              "type": "dataframe",
              "variable_name": "regression_df",
              "summary": "{\n  \"name\": \"regression_df\",\n  \"rows\": 100,\n  \"fields\": [\n    {\n      \"column\": \"Feature_1\",\n      \"properties\": {\n        \"dtype\": \"number\",\n        \"std\": 0.9636402640289577,\n        \"min\": -2.3015386968802827,\n        \"max\": 2.4493686490613973,\n        \"num_unique_values\": 100,\n        \"samples\": [\n          0.8279746426072462,\n          -0.8778584179213718,\n          -0.6613442431530187\n        ],\n        \"semantic_type\": \"\",\n        \"description\": \"\"\n      }\n    },\n    {\n      \"column\": \"Feature_2\",\n      \"properties\": {\n        \"dtype\": \"number\",\n        \"std\": 0.9411832214638196,\n        \"min\": -2.506440652676061,\n        \"max\": 3.0308571123720305,\n        \"num_unique_values\": 100,\n        \"samples\": [\n          0.2300947353643834,\n          0.0422137467155928,\n          3.0308571123720305\n        ],\n        \"semantic_type\": \"\",\n        \"description\": \"\"\n      }\n    },\n    {\n      \"column\": \"Feature_3\",\n      \"properties\": {\n        \"dtype\": \"number\",\n        \"std\": 1.0166782025308714,\n        \"min\": -2.79308500014654,\n        \"max\": 2.528325706806398,\n        \"num_unique_values\": 100,\n        \"samples\": [\n          -0.3062040126283718,\n          -0.1724282075504357,\n          1.3887793963702684\n        ],\n        \"semantic_type\": \"\",\n        \"description\": \"\"\n      }\n    },\n    {\n      \"column\": \"Feature_4\",\n      \"properties\": {\n        \"dtype\": \"number\",\n        \"std\": 0.9986680043718144,\n        \"min\": -2.7825344676529227,\n        \"max\": 2.1106050536007097,\n        \"num_unique_values\": 100,\n        \"samples\": [\n          0.7620111803120247,\n          0.5828152137158222,\n          0.8245846250334574\n        ],\n        \"semantic_type\": \"\",\n        \"description\": \"\"\n      }\n    },\n    {\n      \"column\": \"Target\",\n      \"properties\": {\n        \"dtype\": \"number\",\n        \"std\": 124.57575749533827,\n        \"min\": -487.4623472268687,\n        \"max\": 318.2684976898717,\n        \"num_unique_values\": 100,\n        \"samples\": [\n          95.7263112482008,\n          25.501922810712664,\n          318.2684976898717\n        ],\n        \"semantic_type\": \"\",\n        \"description\": \"\"\n      }\n    }\n  ]\n}"
            }
          },
          "metadata": {},
          "execution_count": 10
        }
      ]
    },
    {
      "cell_type": "code",
      "source": [
        "x = regression_df.drop(columns=['Target'])\n",
        "y = regression_df['Target']"
      ],
      "metadata": {
        "id": "l15Ez97ak7qA"
      },
      "execution_count": null,
      "outputs": []
    },
    {
      "cell_type": "code",
      "source": [
        "# Apply f_regression\n",
        "f_selector = SelectKBest(score_func=f_regression, k=2)\n",
        "x_selected = f_selector.fit_transform(x, y)\n",
        "\n",
        "# Show F-scores and p-values\n",
        "f_scores = f_selector.scores_\n",
        "p_values = f_selector.pvalues_\n",
        "\n",
        "# Create a summary DataFrame\n",
        "f_df = pd.DataFrame({'Feature': x.columns, 'F-Score': f_scores, 'P-Value': p_values})\n",
        "print(f_df.sort_values(by='F-Score', ascending=False))"
      ],
      "metadata": {
        "colab": {
          "base_uri": "https://localhost:8080/"
        },
        "id": "4V8_zDXWlmSS",
        "outputId": "24ac8520-7fa4-4bf2-e88d-03260a6b5397"
      },
      "execution_count": null,
      "outputs": [
        {
          "output_type": "stream",
          "name": "stdout",
          "text": [
            "     Feature     F-Score       P-Value\n",
            "3  Feature_4  158.282891  3.548372e-22\n",
            "1  Feature_2   34.530416  5.785259e-08\n",
            "2  Feature_3   13.295834  4.281374e-04\n",
            "0  Feature_1    0.000065  9.936056e-01\n"
          ]
        }
      ]
    },
    {
      "cell_type": "code",
      "source": [
        "selected_columns = x.columns[f_selector.get_support()]\n",
        "print(selected_columns)\n"
      ],
      "metadata": {
        "colab": {
          "base_uri": "https://localhost:8080/"
        },
        "id": "CrAy5UMonXUV",
        "outputId": "b56af052-b1ba-44fb-9ba7-2f22f8b0e57d"
      },
      "execution_count": null,
      "outputs": [
        {
          "output_type": "stream",
          "name": "stdout",
          "text": [
            "Index(['Feature_2', 'Feature_4'], dtype='object')\n"
          ]
        }
      ]
    },
    {
      "cell_type": "markdown",
      "source": [
        "##r-regression method: Numerical inputs and numerical outputs"
      ],
      "metadata": {
        "id": "Gqs8FEFhny8I"
      }
    },
    {
      "cell_type": "markdown",
      "source": [
        "r = pearson's coefficient. It helps in understandning the linear relationship between the two columns/variables"
      ],
      "metadata": {
        "id": "sWFUTHRLokDE"
      }
    },
    {
      "cell_type": "code",
      "source": [
        "from sklearn.feature_selection import SelectKBest, r_regression\n",
        "\n",
        "import pandas as pd\n",
        "\n",
        "regression_df = pd.read_csv('regression.csv')"
      ],
      "metadata": {
        "id": "xJR8xRjUns2E"
      },
      "execution_count": null,
      "outputs": []
    },
    {
      "cell_type": "code",
      "source": [
        "x = regression_df.drop(columns=['Target'])\n",
        "y = regression_df['Target']"
      ],
      "metadata": {
        "id": "er7j6DZQpPuo"
      },
      "execution_count": null,
      "outputs": []
    },
    {
      "cell_type": "code",
      "source": [
        "# Apply f_regression\n",
        "r_selector = SelectKBest(score_func=r_regression, k=2)\n",
        "x_selected = r_selector.fit_transform(x, y)\n",
        "\n",
        "# Show F-scores and p-values\n",
        "r_scores = r_selector.scores_\n",
        "\n",
        "# Create a summary DataFrame\n",
        "r_df = pd.DataFrame({'Feature': x.columns, 'r-value': r_scores})\n",
        "print(r_df.sort_values(by='r-value', ascending=False))"
      ],
      "metadata": {
        "colab": {
          "base_uri": "https://localhost:8080/"
        },
        "id": "WdIBclomoD5I",
        "outputId": "34ea1892-daf7-4e04-a57f-0966b46a3200"
      },
      "execution_count": null,
      "outputs": [
        {
          "output_type": "stream",
          "name": "stdout",
          "text": [
            "     Feature   r-value\n",
            "3  Feature_4  0.785882\n",
            "1  Feature_2  0.510438\n",
            "2  Feature_3  0.345635\n",
            "0  Feature_1  0.000812\n"
          ]
        }
      ]
    },
    {
      "cell_type": "code",
      "source": [
        "selected_columns = x.columns[r_selector.get_support()]\n",
        "print(selected_columns)\n"
      ],
      "metadata": {
        "colab": {
          "base_uri": "https://localhost:8080/"
        },
        "id": "Tp1H1CUvoVgT",
        "outputId": "2c754dba-b0a7-49bc-8939-619a58d22fc4"
      },
      "execution_count": null,
      "outputs": [
        {
          "output_type": "stream",
          "name": "stdout",
          "text": [
            "Index(['Feature_2', 'Feature_4'], dtype='object')\n"
          ]
        }
      ]
    },
    {
      "cell_type": "markdown",
      "source": [
        "##Mutual Info Regression"
      ],
      "metadata": {
        "id": "v73LiUac59Kr"
      }
    },
    {
      "cell_type": "code",
      "source": [
        "from sklearn.feature_selection import mutual_info_regression\n",
        "\n",
        "import pandas as pd\n",
        "\n",
        "regression_df = pd.read_csv('regression.csv')"
      ],
      "metadata": {
        "id": "P2Q2i936ocm4"
      },
      "execution_count": null,
      "outputs": []
    },
    {
      "cell_type": "code",
      "source": [
        "#mutual info scores calculation\n",
        "mi_scores = mutual_info_regression(x,y)\n",
        "\n",
        "# Create a summary DataFrame\n",
        "r_df = pd.DataFrame({'Feature': x.columns, 'mi_scores': mi_scores})\n",
        "print(r_df.sort_values(by='mi_scores', ascending=False))"
      ],
      "metadata": {
        "colab": {
          "base_uri": "https://localhost:8080/"
        },
        "id": "exRvTMRD7Lyj",
        "outputId": "5d4b32f9-b2d6-449b-976c-e1dc52a48c99"
      },
      "execution_count": null,
      "outputs": [
        {
          "output_type": "stream",
          "name": "stdout",
          "text": [
            "     Feature  mi_scores\n",
            "3  Feature_4   0.496617\n",
            "1  Feature_2   0.111024\n",
            "2  Feature_3   0.022457\n",
            "0  Feature_1   0.007430\n"
          ]
        }
      ]
    },
    {
      "cell_type": "markdown",
      "source": [
        "## Mutual Info Classification"
      ],
      "metadata": {
        "id": "LZOYTMhd8Snd"
      }
    },
    {
      "cell_type": "code",
      "source": [
        "import pandas as pd\n",
        "from sklearn.feature_selection import mutual_info_classif\n",
        "\n",
        "#Loading the data\n",
        "classif_df = pd.read_csv('diabetes.csv')\n",
        "x = classif_df.drop(columns=['Outcome'])\n",
        "y = classif_df['Outcome']\n",
        "\n",
        "# Apply Mutual Information Classification\n",
        "mi_scores = mutual_info_classif(x, y)\n",
        "\n",
        "# Create DataFrame to show MI scores\n",
        "mi_df = pd.DataFrame({'Feature': x.columns, 'MI Score': mi_scores})\n",
        "mi_df = mi_df.sort_values(by='MI Score', ascending=False)\n",
        "\n",
        "print(mi_df)\n"
      ],
      "metadata": {
        "colab": {
          "base_uri": "https://localhost:8080/"
        },
        "id": "q4Rw98UE7980",
        "outputId": "6a7232e5-b1a2-4d84-f2b4-2e1e811a81d4"
      },
      "execution_count": null,
      "outputs": [
        {
          "output_type": "stream",
          "name": "stdout",
          "text": [
            "                    Feature  MI Score\n",
            "1                   Glucose  0.116749\n",
            "7                       Age  0.081025\n",
            "5                       BMI  0.080960\n",
            "0               Pregnancies  0.026443\n",
            "4                   Insulin  0.022028\n",
            "2             BloodPressure  0.021611\n",
            "6  DiabetesPedigreeFunction  0.013766\n",
            "3             SkinThickness  0.000000\n"
          ]
        }
      ]
    }
  ]
}