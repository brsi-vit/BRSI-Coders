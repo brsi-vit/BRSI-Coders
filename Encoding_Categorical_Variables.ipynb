{
  "cells": [
    {
      "cell_type": "markdown",
      "id": "bb8a0989",
      "metadata": {
        "id": "bb8a0989"
      },
      "source": [
        "# Feature Transformation Techniques in Machine Learning\n",
        "This notebook demonstrates encoding categorical variables and discretization/binning techniques with examples."
      ]
    },
    {
      "cell_type": "markdown",
      "id": "6d44d59c",
      "metadata": {
        "id": "6d44d59c"
      },
      "source": [
        "## 🔹 2. Encoding Categorical Variables\n",
        "Converts categorical data into numerical format."
      ]
    },
    {
      "cell_type": "markdown",
      "id": "38679ce4",
      "metadata": {
        "id": "38679ce4"
      },
      "source": [
        "### Label Encoding\n",
        "Assigns unique integers to each category."
      ]
    },
    {
      "cell_type": "code",
      "execution_count": 1,
      "id": "e104b28c",
      "metadata": {
        "colab": {
          "base_uri": "https://localhost:8080/"
        },
        "id": "e104b28c",
        "outputId": "b5aae6fc-1b46-40d9-b285-ebe67e7ad68f"
      },
      "outputs": [
        {
          "output_type": "stream",
          "name": "stdout",
          "text": [
            "   Color  Color_Label\n",
            "0    Red            2\n",
            "1   Blue            0\n",
            "2  Green            1\n",
            "3   Blue            0\n",
            "4    Red            2\n"
          ]
        }
      ],
      "source": [
        "\n",
        "import pandas as pd\n",
        "from sklearn.preprocessing import LabelEncoder\n",
        "\n",
        "data = pd.DataFrame({'Color': ['Red', 'Blue', 'Green', 'Blue', 'Red']})\n",
        "le = LabelEncoder()\n",
        "data['Color_Label'] = le.fit_transform(data['Color'])\n",
        "print(data)\n"
      ]
    },
    {
      "cell_type": "markdown",
      "id": "51ba06a5",
      "metadata": {
        "id": "51ba06a5"
      },
      "source": [
        "### One-Hot Encoding\n",
        "Creates binary columns for each category."
      ]
    },
    {
      "cell_type": "code",
      "execution_count": 2,
      "id": "752f6691",
      "metadata": {
        "colab": {
          "base_uri": "https://localhost:8080/"
        },
        "id": "752f6691",
        "outputId": "c9f1b8b7-fd22-42b7-9d9b-4e6d24fa5086"
      },
      "outputs": [
        {
          "output_type": "stream",
          "name": "stdout",
          "text": [
            "   Color_Blue  Color_Green  Color_Red\n",
            "0       False        False       True\n",
            "1        True        False      False\n",
            "2       False         True      False\n",
            "3        True        False      False\n",
            "4       False        False       True\n"
          ]
        }
      ],
      "source": [
        "\n",
        "data = pd.DataFrame({'Color': ['Red', 'Blue', 'Green', 'Blue', 'Red']})\n",
        "data_encoded = pd.get_dummies(data, columns=['Color'])\n",
        "print(data_encoded)\n"
      ]
    },
    {
      "cell_type": "markdown",
      "id": "9bfb8deb",
      "metadata": {
        "id": "9bfb8deb"
      },
      "source": [
        "### Ordinal Encoding\n",
        "Assigns integers based on category order."
      ]
    },
    {
      "cell_type": "code",
      "execution_count": 3,
      "id": "1c22bb79",
      "metadata": {
        "colab": {
          "base_uri": "https://localhost:8080/"
        },
        "id": "1c22bb79",
        "outputId": "7995925e-af58-423c-b3fc-1dc9cb7ae4e0"
      },
      "outputs": [
        {
          "output_type": "stream",
          "name": "stdout",
          "text": [
            "     Size  Size_Ordinal\n",
            "0   Small           0.0\n",
            "1  Medium           1.0\n",
            "2   Large           2.0\n",
            "3  Medium           1.0\n",
            "4   Small           0.0\n"
          ]
        }
      ],
      "source": [
        "\n",
        "from sklearn.preprocessing import OrdinalEncoder\n",
        "\n",
        "data = pd.DataFrame({'Size': ['Small', 'Medium', 'Large', 'Medium', 'Small']})\n",
        "encoder = OrdinalEncoder(categories=[['Small', 'Medium', 'Large']])\n",
        "data['Size_Ordinal'] = encoder.fit_transform(data[['Size']])\n",
        "print(data)\n"
      ]
    },
    {
      "cell_type": "code",
      "source": [
        "import pandas as pd\n",
        "\n",
        "data = pd.DataFrame({\n",
        "    'City': ['Mumbai', 'Delhi', 'Bangalore', 'Chennai', 'Delhi', 'Mumbai', 'Bangalore', 'Chennai'],\n",
        "    'Salary': [50000, 55000, 48000, 52000, 53000, 51000, 47000, 50000]\n",
        "})\n",
        "print(data)\n"
      ],
      "metadata": {
        "colab": {
          "base_uri": "https://localhost:8080/"
        },
        "id": "lFakZd7g_01I",
        "outputId": "9f35ed8d-967f-4355-c5da-7bb466205ffa"
      },
      "id": "lFakZd7g_01I",
      "execution_count": 11,
      "outputs": [
        {
          "output_type": "stream",
          "name": "stdout",
          "text": [
            "        City  Salary\n",
            "0     Mumbai   50000\n",
            "1      Delhi   55000\n",
            "2  Bangalore   48000\n",
            "3    Chennai   52000\n",
            "4      Delhi   53000\n",
            "5     Mumbai   51000\n",
            "6  Bangalore   47000\n",
            "7    Chennai   50000\n"
          ]
        }
      ]
    },
    {
      "cell_type": "code",
      "source": [
        "pip install category_encoders\n"
      ],
      "metadata": {
        "colab": {
          "base_uri": "https://localhost:8080/"
        },
        "id": "dzmyi9fe_2yI",
        "outputId": "e2df14d4-7596-402e-a9d8-23091714cb51"
      },
      "id": "dzmyi9fe_2yI",
      "execution_count": 12,
      "outputs": [
        {
          "output_type": "stream",
          "name": "stdout",
          "text": [
            "Collecting category_encoders\n",
            "  Downloading category_encoders-2.8.1-py3-none-any.whl.metadata (7.9 kB)\n",
            "Requirement already satisfied: numpy>=1.14.0 in /usr/local/lib/python3.11/dist-packages (from category_encoders) (2.0.2)\n",
            "Requirement already satisfied: pandas>=1.0.5 in /usr/local/lib/python3.11/dist-packages (from category_encoders) (2.2.2)\n",
            "Requirement already satisfied: patsy>=0.5.1 in /usr/local/lib/python3.11/dist-packages (from category_encoders) (1.0.1)\n",
            "Requirement already satisfied: scikit-learn>=1.6.0 in /usr/local/lib/python3.11/dist-packages (from category_encoders) (1.6.1)\n",
            "Requirement already satisfied: scipy>=1.0.0 in /usr/local/lib/python3.11/dist-packages (from category_encoders) (1.15.2)\n",
            "Requirement already satisfied: statsmodels>=0.9.0 in /usr/local/lib/python3.11/dist-packages (from category_encoders) (0.14.4)\n",
            "Requirement already satisfied: python-dateutil>=2.8.2 in /usr/local/lib/python3.11/dist-packages (from pandas>=1.0.5->category_encoders) (2.9.0.post0)\n",
            "Requirement already satisfied: pytz>=2020.1 in /usr/local/lib/python3.11/dist-packages (from pandas>=1.0.5->category_encoders) (2025.2)\n",
            "Requirement already satisfied: tzdata>=2022.7 in /usr/local/lib/python3.11/dist-packages (from pandas>=1.0.5->category_encoders) (2025.2)\n",
            "Requirement already satisfied: joblib>=1.2.0 in /usr/local/lib/python3.11/dist-packages (from scikit-learn>=1.6.0->category_encoders) (1.5.0)\n",
            "Requirement already satisfied: threadpoolctl>=3.1.0 in /usr/local/lib/python3.11/dist-packages (from scikit-learn>=1.6.0->category_encoders) (3.6.0)\n",
            "Requirement already satisfied: packaging>=21.3 in /usr/local/lib/python3.11/dist-packages (from statsmodels>=0.9.0->category_encoders) (24.2)\n",
            "Requirement already satisfied: six>=1.5 in /usr/local/lib/python3.11/dist-packages (from python-dateutil>=2.8.2->pandas>=1.0.5->category_encoders) (1.17.0)\n",
            "Downloading category_encoders-2.8.1-py3-none-any.whl (85 kB)\n",
            "\u001b[2K   \u001b[90m━━━━━━━━━━━━━━━━━━━━━━━━━━━━━━━━━━━━━━━━\u001b[0m \u001b[32m85.7/85.7 kB\u001b[0m \u001b[31m2.6 MB/s\u001b[0m eta \u001b[36m0:00:00\u001b[0m\n",
            "\u001b[?25hInstalling collected packages: category_encoders\n",
            "Successfully installed category_encoders-2.8.1\n"
          ]
        }
      ]
    },
    {
      "cell_type": "markdown",
      "source": [
        "Binary Encoding"
      ],
      "metadata": {
        "id": "EE5aCNmtS9te"
      },
      "id": "EE5aCNmtS9te"
    },
    {
      "cell_type": "markdown",
      "source": [
        "Binary"
      ],
      "metadata": {
        "id": "QigQFszAS81W"
      },
      "id": "QigQFszAS81W"
    },
    {
      "cell_type": "code",
      "source": [
        "import category_encoders as ce\n",
        "\n",
        "binary_encoder = ce.BinaryEncoder(cols=['City'])\n",
        "binary_encoded = binary_encoder.fit_transform(data['City'])\n",
        "data_binary = pd.concat([data, binary_encoded], axis=1)\n",
        "print(data_binary)\n"
      ],
      "metadata": {
        "colab": {
          "base_uri": "https://localhost:8080/"
        },
        "id": "2fbh2Aew_4SW",
        "outputId": "45e46596-751b-45cd-a9ba-10261f7c06a9"
      },
      "id": "2fbh2Aew_4SW",
      "execution_count": 13,
      "outputs": [
        {
          "output_type": "stream",
          "name": "stdout",
          "text": [
            "        City  Salary  City_0  City_1  City_2\n",
            "0     Mumbai   50000       0       0       1\n",
            "1      Delhi   55000       0       1       0\n",
            "2  Bangalore   48000       0       1       1\n",
            "3    Chennai   52000       1       0       0\n",
            "4      Delhi   53000       0       1       0\n",
            "5     Mumbai   51000       0       0       1\n",
            "6  Bangalore   47000       0       1       1\n",
            "7    Chennai   50000       1       0       0\n"
          ]
        }
      ]
    },
    {
      "cell_type": "markdown",
      "source": [
        "Hash Encoding"
      ],
      "metadata": {
        "id": "jOJT519LS659"
      },
      "id": "jOJT519LS659"
    },
    {
      "cell_type": "code",
      "source": [
        "hash_encoder = ce.HashingEncoder(cols=['City'], n_components=3)  # 4 columns hash\n",
        "hash_encoded = hash_encoder.fit_transform(data['City'])\n",
        "data_hash = pd.concat([data, hash_encoded], axis=1)\n",
        "print(data_hash)\n"
      ],
      "metadata": {
        "colab": {
          "base_uri": "https://localhost:8080/"
        },
        "id": "LpgUdT_P_8Qg",
        "outputId": "1995327f-9e7e-4005-df62-6f942112f3ef"
      },
      "id": "LpgUdT_P_8Qg",
      "execution_count": 17,
      "outputs": [
        {
          "output_type": "stream",
          "name": "stdout",
          "text": [
            "        City  Salary  col_0  col_1  col_2\n",
            "0     Mumbai   50000      0      0      1\n",
            "1      Delhi   55000      0      1      0\n",
            "2  Bangalore   48000      0      1      0\n",
            "3    Chennai   52000      1      0      0\n",
            "4      Delhi   53000      0      1      0\n",
            "5     Mumbai   51000      0      0      1\n",
            "6  Bangalore   47000      0      1      0\n",
            "7    Chennai   50000      1      0      0\n"
          ]
        }
      ]
    },
    {
      "cell_type": "markdown",
      "source": [
        "Target Encoding"
      ],
      "metadata": {
        "id": "EPRhtk0TS477"
      },
      "id": "EPRhtk0TS477"
    },
    {
      "cell_type": "code",
      "source": [
        "target_encoder = ce.TargetEncoder(cols=['City'])\n",
        "target_encoded = target_encoder.fit_transform(data['City'], data['Salary'])\n",
        "data_target = pd.concat([data, target_encoded.rename(columns={'City': 'City_TargetEncoded'})], axis=1)\n",
        "print(data_target)\n"
      ],
      "metadata": {
        "colab": {
          "base_uri": "https://localhost:8080/"
        },
        "id": "qoE5m8GrACyC",
        "outputId": "f73697c8-ac00-4dd4-8ada-fab0df7c15ac"
      },
      "id": "qoE5m8GrACyC",
      "execution_count": 15,
      "outputs": [
        {
          "output_type": "stream",
          "name": "stdout",
          "text": [
            "        City  Salary  City_TargetEncoded\n",
            "0     Mumbai   50000        50714.537234\n",
            "1      Delhi   55000        51211.015961\n",
            "2  Bangalore   48000        50288.984039\n",
            "3    Chennai   52000        50785.462766\n",
            "4      Delhi   53000        51211.015961\n",
            "5     Mumbai   51000        50714.537234\n",
            "6  Bangalore   47000        50288.984039\n",
            "7    Chennai   50000        50785.462766\n"
          ]
        }
      ]
    }
  ],
  "metadata": {
    "kernelspec": {
      "display_name": "Python 3",
      "language": "python",
      "name": "python3"
    },
    "language_info": {
      "codemirror_mode": {
        "name": "ipython",
        "version": 3
      },
      "file_extension": ".py",
      "mimetype": "text/x-python",
      "name": "python",
      "nbconvert_exporter": "python",
      "pygments_lexer": "ipython3",
      "version": "3.12.1"
    },
    "colab": {
      "provenance": []
    }
  },
  "nbformat": 4,
  "nbformat_minor": 5
}